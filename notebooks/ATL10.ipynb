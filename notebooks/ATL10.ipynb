{
 "cells": [
  {
   "cell_type": "code",
   "execution_count": null,
   "id": "18ca1ea3-a223-4e05-9739-73e6d98abcc4",
   "metadata": {
    "tags": []
   },
   "outputs": [],
   "source": [
    "import earthaccess\n",
    "import xarray as xr\n",
    "import h5py\n",
    "\n",
    "import cartopy.crs as ccrs\n",
    "\n",
    "import matplotlib.pyplot as plt\n",
    "import geopandas as gpd\n",
    "import pandas as pd\n",
    "import cmocean\n",
    "import numpy as np\n",
    "\n",
    "auth = earthaccess.login()\n",
    "\n",
    "results = earthaccess.search_data(\n",
    "    short_name = \"ATL10\",\n",
    "    # granule_name=\"\", # if we know the file name we can use it here to donwload or open it directly e.g. ATL10-02_20201231232719_01221001_006_01.h5\n",
    "    cloud_hosted= True,\n",
    "    temporal=(\"2021-01\",\"2021-02\"),\n",
    "    count = 1\n",
    ")\n",
    "results[0]"
   ]
  },
  {
   "cell_type": "markdown",
   "id": "8d87df4f-838b-4a28-ab4c-23c17fb6deca",
   "metadata": {},
   "source": [
    "## Open ATL data with earthaccess' `.open()`"
   ]
  },
  {
   "cell_type": "code",
   "execution_count": null,
   "id": "439983be-eeb8-4398-9e08-d0a710c44582",
   "metadata": {
    "tags": []
   },
   "outputs": [],
   "source": [
    "files = earthaccess.open(results, \"ATL10\")"
   ]
  },
  {
   "cell_type": "markdown",
   "id": "39e00c1d-cda8-457c-bd3e-3a142708c744",
   "metadata": {},
   "source": [
    "### Reading ATL10 data from a single file\n",
    "\n",
    "Because ATL10 is not a gridded prduct we need to extrac coordinates and variables from their groups inside the HDF5 file."
   ]
  },
  {
   "cell_type": "code",
   "execution_count": null,
   "id": "64d1e40d-a884-430e-94ea-092d25c3e03f",
   "metadata": {
    "tags": []
   },
   "outputs": [],
   "source": [
    "## Based on the READ function form Younghyun Koo for the sea ice tutorial at the IS2 hackweek\n",
    "def read_atl10(filename):\n",
    "\n",
    "    # Create a list for saving ATL10 beam track data\n",
    "    tracks = []\n",
    "\n",
    "    with h5py.File(filename,'r') as f:\n",
    "\n",
    "        # Check the orbit orientation\n",
    "        orient = f['orbit_info/sc_orient'][0]\n",
    "\n",
    "        if orient == 0:\n",
    "            strong_beams = [f\"gt{i}l\" for i in [1, 2, 3]]\n",
    "        elif orient == 1:\n",
    "            strong_beams = [f\"gt{i}r\" for i in [1, 2, 3]]\n",
    "        else:\n",
    "            strong_beams = []\n",
    "\n",
    "        for beam in strong_beams:\n",
    "\n",
    "            lat = f[beam]['freeboard_segment/latitude'][:]\n",
    "            lon = f[beam]['freeboard_segment/longitude'][:]\n",
    "            seg_x = f[beam]['freeboard_segment/seg_dist_x'][:] / 1000 # (m to km)\n",
    "            seg_len = f[beam]['freeboard_segment/heights/height_segment_length_seg'][:]\n",
    "            fb = f[beam]['freeboard_segment/beam_fb_height'][:]\n",
    "            surface_type = f[beam]['freeboard_segment/heights/height_segment_type'][:]\n",
    "            fb[fb>100] = np.nan\n",
    "\n",
    "            df = pd.DataFrame({'lat': lat, 'lon': lon, 'seg_x': seg_x, 'seg_len': seg_len,\n",
    "                              'freeboard': fb, 'stype': surface_type})\n",
    "            df['beam'] = beam\n",
    "            df = df.dropna().reset_index(drop = True)\n",
    "            gdf = gpd.GeoDataFrame(\n",
    "                    df, geometry=gpd.points_from_xy(df.lon, df.lat), crs=\"EPSG:4326\"\n",
    "            )\n",
    "            tracks.append(gdf)\n",
    "        return tracks"
   ]
  },
  {
   "cell_type": "code",
   "execution_count": null,
   "id": "8d97485d-2fd4-40c3-8432-d38a6005401a",
   "metadata": {
    "tags": []
   },
   "outputs": [],
   "source": [
    "def plot_freeboard(tracks, granule):\n",
    "    # test extent\n",
    "    if tracks[0].lat.max() < 0:\n",
    "        target_projection = ccrs.SouthPolarStereo()\n",
    "        target_crs = \"EPSG:3031\"\n",
    "        target_extent = [-180, 180, -90, -60]\n",
    "    else:\n",
    "        target_projection = ccrs.NorthPolarStereo()\n",
    "        target_crs = \"EPSG:3413\"\n",
    "        target_extent = [-180, 180, 90, 60]\n",
    "    \n",
    "    axd = plt.figure(layout=\"constrained\", figsize=(12, 5)).subplot_mosaic(\n",
    "        \"\"\"\n",
    "        AABBB\n",
    "        AACCC\n",
    "        AADDD\n",
    "        \"\"\",\n",
    "        per_subplot_kw={\n",
    "            \"A\": {\"projection\": target_projection},\n",
    "            (\"B\", \"C\", \"D\"): {\"xscale\": \"log\"}\n",
    "        },\n",
    "    )\n",
    "    cmap = cmocean.cm.ice\n",
    "    norm = plt.Normalize(vmin=1, vmax=6)\n",
    "    track_dict = [\"B\", \"C\", \"D\"]\n",
    "\n",
    "    for count, track in enumerate(tracks):\n",
    "        color=cmap(norm(count))\n",
    "        \n",
    "        location_data = gpd.GeoDataFrame(track, geometry=track.geometry.to_crs(target_crs))\n",
    "        axd[\"A\"].set_extent(target_extent, crs=ccrs.PlateCarree())\n",
    "\n",
    "        location_data.plot(ax=axd[\"A\"], column=\"freeboard\", cmap=cmap)\n",
    "        axd[\"A\"].set_title(f'ATL10 Sea Ice Freeboard \\n {granule}')\n",
    "        axd[\"A\"].set_xlabel('X (m)')\n",
    "        axd[\"A\"].set_ylabel('Y (m)')\n",
    "        axd[\"A\"].coastlines()\n",
    "        # we mask only sea ice freeboard\n",
    "        mask_ice = (track.stype == 1)\n",
    "        axd[track_dict[count]].scatter(track.seg_x[mask_ice], track.freeboard[mask_ice], s = 1, color = cmap(norm(count)), label = f\"Beam {track['beam'][0]}\")\n",
    "        axd[track_dict[count]].axhline(0.15, color = \"b\", ls = \"--\")\n",
    "        axd[track_dict[count]].set_xlabel(\"Along-track distance (km)\")\n",
    "        axd[track_dict[count]].set_ylabel(\"Freeboard (m)\")\n",
    "        axd[track_dict[count]].legend()\n",
    "        \n",
    "    return axd\n",
    "\n",
    "# we only plot 1 file\n",
    "file = files[0]\n",
    "tracks = read_atl10(file)\n",
    "# plot the tracks\n",
    "granule_name = results[0][\"umm\"][\"GranuleUR\"]\n",
    "plot_freeboard(tracks, granule_name)\n",
    "plt.show()"
   ]
  },
  {
   "cell_type": "markdown",
   "id": "1b41f067-dbeb-41ea-9264-63f05de7eef8",
   "metadata": {},
   "source": [
    "We can also take advantage of Geopandas `explore()` to interactively explore the location and values of the data (although only on pseudo mercator projection)"
   ]
  },
  {
   "cell_type": "code",
   "execution_count": null,
   "id": "5dc637de-6192-4b79-8911-53407a408bc3",
   "metadata": {
    "tags": []
   },
   "outputs": [],
   "source": [
    "index = 0\n",
    "tracks[index].explore(zoom_start=1)"
   ]
  }
 ],
 "metadata": {
  "kernelspec": {
   "display_name": "Python 3 (ipykernel)",
   "language": "python",
   "name": "python3"
  },
  "language_info": {
   "codemirror_mode": {
    "name": "ipython",
    "version": 3
   },
   "file_extension": ".py",
   "mimetype": "text/x-python",
   "name": "python",
   "nbconvert_exporter": "python",
   "pygments_lexer": "ipython3",
   "version": "3.9.17"
  }
 },
 "nbformat": 4,
 "nbformat_minor": 5
}
