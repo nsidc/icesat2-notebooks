{
 "cells": [
  {
   "cell_type": "markdown",
   "id": "f4c927e6-a54c-4c65-bc93-785cfdbc3075",
   "metadata": {},
   "source": [
    "# [ATL14](https://nsidc.org/data/atl14/)\n",
    "\n",
    "\n",
    "## Downloading data using earthaccess"
   ]
  },
  {
   "cell_type": "code",
   "execution_count": null,
   "id": "57c1cacd-86fa-45bf-8685-951aad46eb98",
   "metadata": {
    "tags": []
   },
   "outputs": [],
   "source": [
    "import earthaccess\n",
    "\n",
    "auth = earthaccess.login()\n",
    "earthaccess.__version__"
   ]
  },
  {
   "cell_type": "code",
   "execution_count": null,
   "id": "f94c4232-0e90-4948-82ea-b0529459bcdd",
   "metadata": {
    "tags": []
   },
   "outputs": [],
   "source": [
    "temporal_range = (\"2021-01\", \"2023-01\")\n",
    "max_files = 10\n",
    "\n",
    "download_list = []\n",
    "\n",
    "results = earthaccess.search_data(short_name=\"ATL14\",\n",
    "                                  cloud_hosted=True,\n",
    "                                  temporal = temporal_range,\n",
    "                                  count=max_files)\n",
    "for granule in results:\n",
    "    if granule.size() < 500:\n",
    "        download_list.append(granule)\n",
    "        \n",
    "print(f\"total granules listed under 500MB: {len(download_list)}\")\n",
    "files = earthaccess.download(download_list, local_path=\"../data/ATL14\")"
   ]
  },
  {
   "cell_type": "markdown",
   "id": "44f5c350-025c-4090-aa79-d533a0b59616",
   "metadata": {},
   "source": [
    "## Loading data"
   ]
  },
  {
   "cell_type": "code",
   "execution_count": null,
   "id": "a521fe53-d4f4-4bde-88b2-26184355018d",
   "metadata": {
    "tags": []
   },
   "outputs": [],
   "source": [
    "import xarray as xr\n",
    "import hvplot.xarray\n",
    "from cartopy import crs\n",
    "import pathlib\n",
    "import geoviews as gv\n",
    "import geoviews.feature as gf\n",
    "\n",
    "import pyproj\n",
    "from shapely.geometry import box\n",
    "from shapely.ops import transform\n",
    "\n",
    "gv.extension('bokeh', 'matplotlib')\n",
    "\n",
    "import warnings\n",
    "warnings.filterwarnings('ignore')"
   ]
  },
  {
   "cell_type": "code",
   "execution_count": null,
   "id": "757d8f44-f04b-4349-8b6a-2feab1b84c7d",
   "metadata": {
    "tags": []
   },
   "outputs": [],
   "source": [
    "# Listing the files in /data/ATL14\n",
    "files = []\n",
    "for file in pathlib.Path('../data/ATL14').glob('*.nc'):\n",
    "    files.append(str(file))\n",
    "files"
   ]
  },
  {
   "cell_type": "markdown",
   "id": "d8374f9e-0398-4f14-b926-231feffe4191",
   "metadata": {
    "tags": []
   },
   "source": [
    "## Exploring ATL16 with xarray\n",
    "\n",
    "* A) Opening a single granule\n",
    "> xarray uses h5py or netcdf4 to open `.h5` and `.nc` files, it opens the file and based on the signature it selects the backend\n",
    "> If the files are local this should be pretty straight-forward. \n",
    "\n",
    "* B) Plotting the granule using [hvplot](https://hvplot.holoviz.org/user_guide/Gridded_Data.html)"
   ]
  },
  {
   "cell_type": "code",
   "execution_count": null,
   "id": "fdf5dba7-f1c4-4e9b-b307-2ae62fc3b155",
   "metadata": {},
   "outputs": [],
   "source": [
    "# Single granule, xarray opens hdf5 files using the netcdf4/h5py libraries.\n",
    "ds = xr.open_dataset(files[0])\n",
    "ds"
   ]
  },
  {
   "cell_type": "markdown",
   "id": "d3298cad-f906-436d-b9c4-6fe15caf2617",
   "metadata": {},
   "source": [
    "### Exploring data geolocation using GeoViews\n",
    "\n",
    "We create a bounding box using the dataset coordinate values (x,y)  "
   ]
  },
  {
   "cell_type": "code",
   "execution_count": null,
   "id": "40ab2f8a-b2d3-430d-8951-b51de32a3f10",
   "metadata": {
    "tags": []
   },
   "outputs": [],
   "source": [
    "project = pyproj.Transformer.from_proj(\n",
    "    pyproj.Proj(init='epsg:3413'), # source coordinate system\n",
    "    pyproj.Proj(init='epsg:4326'))\n",
    "\n",
    "\n",
    "bounds = transform(project.transform, box(ds.x.min(), ds.y.min(), ds.x.max(), ds.y.max()))\n",
    "bounds"
   ]
  },
  {
   "cell_type": "markdown",
   "id": "3e2b8a09-68c5-4abc-bb47-565101eccc43",
   "metadata": {},
   "source": [
    "Now we visualize where the bouding box is using GeoViews. Since we already know the data is in Polar Nort projection we use it and set the projected bounds as the limit to our map."
   ]
  },
  {
   "cell_type": "code",
   "execution_count": null,
   "id": "4a6e3978-9fcd-456c-b9ae-b5da50d12fdb",
   "metadata": {
    "tags": []
   },
   "outputs": [],
   "source": [
    "projected_bounds = {\n",
    "    \"lat\": (-3314693.24, 3314693.24),\n",
    "    \"lon\": ( -3314693.24, 3314693.24)\n",
    "}\n",
    "\n",
    "(gf.coastline.geoms('110m').opts(projection=crs.NorthPolarStereo(),\n",
    "                                 xlim=projected_bounds[\"lon\"], \n",
    "                                 ylim=projected_bounds[\"lat\"],\n",
    "                                 global_extent=False,\n",
    "                                 width=600, height=400,\n",
    "                                 color='black') \n",
    "* gv.Polygons(bounds).opts(global_extent=False,\n",
    "                           color='green') \n",
    "* gf.ocean)"
   ]
  },
  {
   "cell_type": "markdown",
   "id": "51c06747-15bc-4b64-9ef5-07cf124119cb",
   "metadata": {},
   "source": [
    "ATL14 is an elevation dataset, we can plot a variable with hvplot via its xarray accessor, each variable in a gridded dataset can be plotted using `.hvplot()`"
   ]
  },
  {
   "cell_type": "code",
   "execution_count": null,
   "id": "50620c3f-c37d-4838-bedd-114cca5935e0",
   "metadata": {
    "tags": []
   },
   "outputs": [],
   "source": [
    "variable = \"h\"\n",
    "ds[variable].hvplot(\n",
    "    'x', 'y',\n",
    "    crs=crs.NorthPolarStereo(central_longitude=-45, true_scale_latitude=70),\n",
    "    projection=crs.NorthPolarStereo(),\n",
    "    frame_height=540,\n",
    "    frame_width=800,\n",
    "    cmap='viridis',\n",
    "    project=False,\n",
    "    rasterize=True,\n",
    "    coastline=True\n",
    ")"
   ]
  },
  {
   "cell_type": "markdown",
   "id": "6fc3ada6-020b-402f-876f-4b55f92782b3",
   "metadata": {},
   "source": [
    "## Validating "
   ]
  },
  {
   "cell_type": "code",
   "execution_count": null,
   "id": "778db9ba-dd3b-47c1-9aef-12b325a6a25b",
   "metadata": {
    "tags": []
   },
   "outputs": [],
   "source": [
    "## TODO"
   ]
  }
 ],
 "metadata": {
  "kernelspec": {
   "display_name": "Python 3 (ipykernel)",
   "language": "python",
   "name": "python3"
  },
  "language_info": {
   "codemirror_mode": {
    "name": "ipython",
    "version": 3
   },
   "file_extension": ".py",
   "mimetype": "text/x-python",
   "name": "python",
   "nbconvert_exporter": "python",
   "pygments_lexer": "ipython3",
   "version": "3.9.16"
  }
 },
 "nbformat": 4,
 "nbformat_minor": 5
}
