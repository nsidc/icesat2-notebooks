{
 "cells": [
  {
   "cell_type": "markdown",
   "id": "f4c927e6-a54c-4c65-bc93-785cfdbc3075",
   "metadata": {},
   "source": [
    "# [ATL16](https://nsidc.org/data/atl16/)\n",
    "\n",
    "* [ATB](https://icesat-2.gsfc.nasa.gov/sites/default/files/page_files/ICESat2_ATL16_ATL17_ATBD_r004.pdf)\n",
    "\n",
    "\n",
    "## Downloading data using earthaccess"
   ]
  },
  {
   "cell_type": "code",
   "execution_count": null,
   "id": "57c1cacd-86fa-45bf-8685-951aad46eb98",
   "metadata": {
    "tags": []
   },
   "outputs": [],
   "source": [
    "import earthaccess\n",
    "\n",
    "auth = earthaccess.login()\n",
    "earthaccess.__version__"
   ]
  },
  {
   "cell_type": "code",
   "execution_count": null,
   "id": "f94c4232-0e90-4948-82ea-b0529459bcdd",
   "metadata": {
    "tags": []
   },
   "outputs": [],
   "source": [
    "temporal_range = (\"2022-01\", \"2022-03\")\n",
    "max_files = 10\n",
    "\n",
    "results = earthaccess.search_data(short_name=\"ATL16\",\n",
    "                                  temporal = temporal_range,\n",
    "                                  count=max_files)\n",
    "files = earthaccess.download(results, local_path=\"../data/ATL16\")"
   ]
  },
  {
   "cell_type": "markdown",
   "id": "44f5c350-025c-4090-aa79-d533a0b59616",
   "metadata": {},
   "source": [
    "## Loading data"
   ]
  },
  {
   "cell_type": "code",
   "execution_count": null,
   "id": "a521fe53-d4f4-4bde-88b2-26184355018d",
   "metadata": {
    "tags": []
   },
   "outputs": [],
   "source": [
    "import xarray as xr\n",
    "import pathlib\n",
    "import h5py\n",
    "from jupyterlab_h5web import H5Web"
   ]
  },
  {
   "cell_type": "code",
   "execution_count": null,
   "id": "757d8f44-f04b-4349-8b6a-2feab1b84c7d",
   "metadata": {
    "tags": []
   },
   "outputs": [],
   "source": [
    "files = []\n",
    "for file in pathlib.Path('../data/ATL16').glob('*.h5'):\n",
    "    files.append(str(file))\n",
    "files"
   ]
  },
  {
   "cell_type": "markdown",
   "id": "d8374f9e-0398-4f14-b926-231feffe4191",
   "metadata": {
    "tags": []
   },
   "source": [
    "## Exploring ATL16 with xarray\n",
    "\n",
    "* A) Opening a single granule\n",
    "> xarray uses h5py or netcdf4 to open `.h5` and `.nc` files, it opens the file and based on the signature it selects the backend\n",
    "> If the files are local this should be pretty straight-forward. \n",
    "* B) Opening multiple granules and concatenating them by time (start or end) \n",
    "> Because this dataset does not have a time dimensionwe need to explicit include it if we want to concatenate mutiple granules\n",
    "> We can do this using a preprocessing function"
   ]
  },
  {
   "cell_type": "code",
   "execution_count": null,
   "id": "fdf5dba7-f1c4-4e9b-b307-2ae62fc3b155",
   "metadata": {},
   "outputs": [],
   "source": [
    "# Single granule, xarray opens hdf5 files using the netcdf4/h5py libraries.\n",
    "ds = xr.open_dataset(files[0])\n",
    "ds"
   ]
  },
  {
   "cell_type": "code",
   "execution_count": null,
   "id": "89bdb4a5-0f34-4be6-a208-80f2f35fc801",
   "metadata": {
    "tags": []
   },
   "outputs": [],
   "source": [
    "# uses multiple grids\n",
    "ds.dims"
   ]
  },
  {
   "cell_type": "markdown",
   "id": "bf2c63f8-5245-4189-8f98-2520abafb5cf",
   "metadata": {},
   "source": [
    "### Opening multiple granules (building a data cube)"
   ]
  },
  {
   "cell_type": "code",
   "execution_count": null,
   "id": "5290286e-1ea7-4bf1-b9ec-a4a59d0c8981",
   "metadata": {
    "tags": []
   },
   "outputs": [],
   "source": [
    "\n",
    "def preprocess(ds):\n",
    "    # expand the dimentions to include time so we can concatenate the granules using the time dimension\n",
    "    ds = ds.expand_dims(time=ds.delta_time_end.values)\n",
    "    return ds\n",
    "\n",
    "\n",
    "stacked_ds = xr.open_mfdataset(files, preprocess=preprocess, concat_dim='time', combine=\"nested\")\n",
    "stacked_ds"
   ]
  },
  {
   "cell_type": "markdown",
   "id": "6fc3ada6-020b-402f-876f-4b55f92782b3",
   "metadata": {},
   "source": [
    "## Validating "
   ]
  },
  {
   "cell_type": "code",
   "execution_count": null,
   "id": "778db9ba-dd3b-47c1-9aef-12b325a6a25b",
   "metadata": {
    "tags": []
   },
   "outputs": [],
   "source": [
    "## TODO"
   ]
  },
  {
   "cell_type": "markdown",
   "id": "afae417c-8762-4af6-9914-2843529b768c",
   "metadata": {},
   "source": [
    "## Plotting"
   ]
  },
  {
   "cell_type": "code",
   "execution_count": null,
   "id": "ead0433b-4faf-41c3-9a73-6fcc966272c4",
   "metadata": {
    "tags": []
   },
   "outputs": [],
   "source": [
    "%matplotlib inline\n",
    "import cartopy.crs as ccrs\n",
    "import matplotlib.pyplot as plt\n",
    "\n",
    "# matplotlib plot with xarray\n",
    "variable = \"combined_global_cloud_frac\"\n",
    "\n",
    "stacked_ds[variable].plot.imshow(size=6, col=\"time\", col_wrap=3)\n"
   ]
  },
  {
   "cell_type": "code",
   "execution_count": null,
   "id": "2afb3242-4c34-4b5a-bfa4-750d0b58e1c2",
   "metadata": {
    "tags": []
   },
   "outputs": [],
   "source": [
    "%matplotlib widget\n",
    "import cartopy.crs as ccrs\n",
    "import matplotlib.pyplot as plt\n",
    "\n",
    "viewpoint = (-90, 45)\n",
    "variable = \"combined_global_cloud_frac\"\n",
    "\n",
    "fig, axs = plt.subplots( subplot_kw=dict(projection=ccrs.Orthographic(viewpoint[0], viewpoint[1])))\n",
    "\n",
    "p = ds[variable].plot(ax=axs, transform=ccrs.PlateCarree())\n",
    "p.axes.coastlines()\n",
    "p.axes.gridlines()\n",
    "p.axes.set_global()\n",
    "plt.show()"
   ]
  }
 ],
 "metadata": {
  "kernelspec": {
   "display_name": "Python 3 (ipykernel)",
   "language": "python",
   "name": "python3"
  },
  "language_info": {
   "codemirror_mode": {
    "name": "ipython",
    "version": 3
   },
   "file_extension": ".py",
   "mimetype": "text/x-python",
   "name": "python",
   "nbconvert_exporter": "python",
   "pygments_lexer": "ipython3",
   "version": "3.9.16"
  }
 },
 "nbformat": 4,
 "nbformat_minor": 5
}
