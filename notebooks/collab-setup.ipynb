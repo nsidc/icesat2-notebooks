{
 "cells": [
  {
   "cell_type": "markdown",
   "id": "07b4c6bf-a1bf-4403-a7cf-6d5c0f52d5b3",
   "metadata": {},
   "source": [
    "## Before running the notebooks in Google Collab, execute the following cell, restart the kernel and execute the next command."
   ]
  },
  {
   "cell_type": "code",
   "execution_count": null,
   "id": "17449b3e-7fc2-4045-8fed-17cf4eccb4e4",
   "metadata": {},
   "outputs": [],
   "source": [
    "!git clone https://github.com/nsidc/icesat2-notebooks.git\n",
    "!pip install -q condacolab\n",
    "import condacolab\n",
    "condacolab.install() # expect a kernel restart"
   ]
  },
  {
   "cell_type": "markdown",
   "id": "720aeba9-238d-495c-ba9d-e1a97ae3624f",
   "metadata": {},
   "source": [
    "## Installing the base environment\n",
    "\n",
    "Restart the kernel after installing the environment and then proceed to the individual notebooks"
   ]
  },
  {
   "cell_type": "code",
   "execution_count": null,
   "id": "4af47226-590a-4123-a369-e17caa302a5b",
   "metadata": {},
   "outputs": [],
   "source": [
    "!cd icesat2-notebooks && mamba env update -f binder/environment.yml"
   ]
  },
  {
   "cell_type": "markdown",
   "id": "d56f2602-22a6-4a42-90f6-e22ea86f80af",
   "metadata": {},
   "source": [
    "### Restart the runtime and play with the notebooks!"
   ]
  }
 ],
 "metadata": {
  "kernelspec": {
   "display_name": "Python 3 (ipykernel)",
   "language": "python",
   "name": "python3"
  },
  "language_info": {
   "codemirror_mode": {
    "name": "ipython",
    "version": 3
   },
   "file_extension": ".py",
   "mimetype": "text/x-python",
   "name": "python",
   "nbconvert_exporter": "python",
   "pygments_lexer": "ipython3",
   "version": "3.9.17"
  }
 },
 "nbformat": 4,
 "nbformat_minor": 5
}
